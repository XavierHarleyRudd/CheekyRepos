{
 "cells": [
  {
   "cell_type": "markdown",
   "id": "f3b2429c-a8ac-44a7-a659-a96f8d7ffa19",
   "metadata": {},
   "source": [
    "# MY JUPYTER NOTEBOOK ON IBM WATSON STUDIO"
   ]
  },
  {
   "cell_type": "markdown",
   "id": "49e80a25-6008-4672-82d4-26c25dfa3fd9",
   "metadata": {},
   "source": [
    "**Xavier Harley-Rudd** SEO Data Insights Manager"
   ]
  },
  {
   "cell_type": "markdown",
   "id": "922d53b7-3820-47ef-95fe-4213f460235e",
   "metadata": {},
   "source": [
    "*I'm interested in data science because it can help me to advance in my career, automating the most tedious reptitive tasks and providing valuable insights for the wider agency. The greater the insights, the more value we can bring the agency.*"
   ]
  },
  {
   "cell_type": "markdown",
   "id": "ec233475-c757-48e6-bf05-abf33b1d800c",
   "metadata": {},
   "source": [
    "### The below code is a simple equation of 7 times 7 (7*7)."
   ]
  },
  {
   "cell_type": "code",
   "execution_count": 1,
   "id": "7e7549f0-c839-432c-b133-04b5305d1cdb",
   "metadata": {},
   "outputs": [
    {
     "name": "stdout",
     "output_type": "stream",
     "text": [
      "49\n"
     ]
    }
   ],
   "source": [
    "print(7*7)"
   ]
  },
  {
   "cell_type": "markdown",
   "id": "113506a2-2332-470d-b71e-c0d58b65a2b3",
   "metadata": {},
   "source": [
    "* This is my website:\n",
    "* <a href=\"https://data-led.com\">**Data Led Consulting**</a>\n",
    "* Please ~re~**view** it at your leisure\n",
    "* I am oddly proud of it, ~despite it being terrible~"
   ]
  }
 ],
 "metadata": {
  "kernelspec": {
   "display_name": "Python 3 (ipykernel)",
   "language": "python",
   "name": "python3"
  },
  "language_info": {
   "codemirror_mode": {
    "name": "ipython",
    "version": 3
   },
   "file_extension": ".py",
   "mimetype": "text/x-python",
   "name": "python",
   "nbconvert_exporter": "python",
   "pygments_lexer": "ipython3",
   "version": "3.9.13"
  }
 },
 "nbformat": 4,
 "nbformat_minor": 5
}
